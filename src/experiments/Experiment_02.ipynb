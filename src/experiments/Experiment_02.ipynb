{
 "cells": [
  {
   "cell_type": "code",
   "execution_count": null,
   "id": "00637bf6",
   "metadata": {},
   "outputs": [],
   "source": [
    "import pandas as pd\n",
    "import numpy as np\n",
    "from sklearn.ensemble import RandomForestClassifier\n",
    "from sklearn.metrics import classification_report, confusion_matrix\n",
    "from sklearn.preprocessing import LabelEncoder, StandardScaler\n",
    "from sklearn.model_selection import train_test_split\n",
    "from imblearn.over_sampling import SMOTE"
   ]
  },
  {
   "cell_type": "code",
   "execution_count": null,
   "id": "800d4e41",
   "metadata": {},
   "outputs": [],
   "source": [
    "df = pd.read_csv(\"All-Processed-Reduced-Cleaned.csv\")\n",
    "\n",
    "print(\"Initial shape:\", df.shape)\n",
    "df.head()"
   ]
  },
  {
   "cell_type": "code",
   "execution_count": null,
   "id": "634da67b",
   "metadata": {},
   "outputs": [],
   "source": [
    "summary = []\n",
    "\n",
    "for col in df.columns:\n",
    "    col_data = df[col]\n",
    "    col_info = {\n",
    "        \"column\": col,\n",
    "        \"dtype\": col_data.dtype,\n",
    "        \"n_unique\": col_data.nunique(),\n",
    "        \"nulls\": col_data.isnull().sum()\n",
    "    }\n",
    "    \n",
    "    if pd.api.types.is_numeric_dtype(col_data):\n",
    "        col_info.update({\n",
    "            \"min\": col_data.min(),\n",
    "            \"max\": col_data.max(),\n",
    "            \"mean\": col_data.mean(),\n",
    "            \"inf_count\": np.isinf(col_data).sum(),\n",
    "            \"-1_count\": (col_data == -1).sum()\n",
    "        })\n",
    "    else:\n",
    "        col_info.update({\n",
    "            \"top_value\": col_data.value_counts().idxmax(),\n",
    "            \"top_freq\": col_data.value_counts().max()\n",
    "        })\n",
    "    \n",
    "    summary.append(col_info)\n",
    "\n",
    "summary_df = pd.DataFrame(summary)\n",
    "\n",
    "# Display the summary nicely\n",
    "pd.set_option('display.max_rows', None)  # show all rows\n",
    "print(summary_df)\n"
   ]
  },
  {
   "cell_type": "code",
   "execution_count": null,
   "id": "fa43879d",
   "metadata": {},
   "outputs": [],
   "source": [
    "# --- Step 1: Clean duration-related features ---\n",
    "duration_cols = [\n",
    "    \"Flow Duration\", \"Flow IAT Mean\", \"Flow IAT Std\", \"Flow IAT Max\", \"Flow IAT Min\",\n",
    "    \"Fwd IAT Tot\", \"Fwd IAT Mean\", \"Fwd IAT Std\", \"Fwd IAT Max\", \"Fwd IAT Min\",\n",
    "    \"Bwd IAT Tot\", \"Bwd IAT Mean\", \"Bwd IAT Std\", \"Bwd IAT Max\", \"Bwd IAT Min\"\n",
    "]\n",
    "for col in duration_cols:\n",
    "    if col in df.columns:\n",
    "        df[col] = pd.to_numeric(df[col], errors='coerce')  # ensure numeric\n",
    "        df[col] = df[col].clip(lower=0)\n",
    "\n",
    "# --- Step 2: Replace placeholders and invalid values ---\n",
    "# Use np.nan for missing-like values to keep track\n",
    "df.replace([-1, np.inf, -np.inf], np.nan, inplace=True)\n",
    "\n",
    "# Fill remaining NaNs with column mean (better than 0 for some models)\n",
    "df.fillna(df.mean(numeric_only=True), inplace=True)\n",
    "\n",
    "# --- Step 3: Drop constant or nearly constant features ---\n",
    "nunique = df.nunique(dropna=False)\n",
    "constant_cols = nunique[nunique <= 1].index\n",
    "df.drop(columns=constant_cols, inplace=True)\n",
    "\n",
    "# --- Step 4: Ensure only numeric columns for model input ---\n",
    "# Keep label separately before this step\n",
    "non_numeric_cols = df.select_dtypes(exclude=[np.number]).columns\n",
    "if len(non_numeric_cols) > 0:\n",
    "    print(f\"⚠️ Found non-numeric columns: {list(non_numeric_cols)}\")\n",
    "    df.drop(columns=non_numeric_cols, inplace=True)\n",
    "\n",
    "print(f\"✅ Cleaning completed. Dropped {len(constant_cols)} constant columns.\")\n"
   ]
  }
 ],
 "metadata": {
  "language_info": {
   "name": "python"
  }
 },
 "nbformat": 4,
 "nbformat_minor": 5
}
